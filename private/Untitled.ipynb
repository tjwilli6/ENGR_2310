{
 "cells": [
  {
   "cell_type": "code",
   "execution_count": 199,
   "metadata": {},
   "outputs": [],
   "source": [
    "import random\n",
    "import matplotlib.pyplot as plt"
   ]
  },
  {
   "cell_type": "code",
   "execution_count": 200,
   "metadata": {},
   "outputs": [],
   "source": [
    "num=random.normalvariate(0.5,0.15)*10"
   ]
  },
  {
   "cell_type": "code",
   "execution_count": 270,
   "metadata": {},
   "outputs": [],
   "source": [
    "NUMPERSONS = 1000\n",
    "PCTIMMUNE = 1\n",
    "DAYSCONTAG = 7\n",
    "NUMFRIENDS = 5\n",
    "STARTING_INFECTERS = 1"
   ]
  },
  {
   "cell_type": "code",
   "execution_count": 277,
   "metadata": {},
   "outputs": [],
   "source": [
    "people = []\n",
    "for i in range(NUMPERSONS):\n",
    "    immune = False\n",
    "    contagness = 0\n",
    "    mask = False\n",
    "    days_contag = 0\n",
    "    friends = int(round(random.normalvariate(0.5,0.15)*2*NUMFRIENDS,0))\n",
    "    if random.randint(0,100) < PCTIMMUNE:\n",
    "        immune = True\n",
    "    person = [immune,contagness,days_contag,friends,mask]\n",
    "    people.append(person)"
   ]
  },
  {
   "cell_type": "code",
   "execution_count": 278,
   "metadata": {},
   "outputs": [],
   "source": [
    "for i in range(STARTING_INFECTERS):\n",
    "    contag = random.normalvariate(0.5,0.15) * 100\n",
    "    index = random.randint(0,NUMPERSONS-1)\n",
    "    while people[index][1] > 0:\n",
    "        index = random.randint(0,NUMPERSONS-1)\n",
    "    people[index][1] = contag"
   ]
  },
  {
   "cell_type": "code",
   "execution_count": 283,
   "metadata": {},
   "outputs": [],
   "source": [
    "def run_day(lockdown=False):\n",
    "    for person in people:\n",
    "        if person[1] == 0:\n",
    "            continue\n",
    "        max_num_gather = int(person[2] / 2)\n",
    "        people_met = random.randint(0,max_num_gather)\n",
    "        if lockdown:\n",
    "            people_met = 0#int(people_met / 2)\n",
    "        for i in range(people_met):\n",
    "            index = random.randint(0,NUMPERSONS-1)\n",
    "            if people[index][1] > 0 or people[index][0]:\n",
    "                continue\n",
    "            contag = person[1]\n",
    "            if person[1][-1]:\n",
    "                contag /= 2\n",
    "            if random.randint(0,100) < person[1]:\n",
    "                people[index][1] = random.normalvariate(0.5,0.15) * 100\n",
    "                #print(\"Person infected!\")\n",
    "        person[2] += 1\n",
    "        if person[2] > DAYSCONTAG:\n",
    "            person[1] = 0\n",
    "            person[0] = True"
   ]
  },
  {
   "cell_type": "code",
   "execution_count": 280,
   "metadata": {},
   "outputs": [],
   "source": [
    "num_cases = []\n",
    "for i in range(100):\n",
    "    lockdown = False\n",
    "    if i==15:\n",
    "        lockdown=1\n",
    "    run_day(lockdown)\n",
    "    num_cases.append(len([p for p in people if p[1] > 0]))"
   ]
  },
  {
   "cell_type": "code",
   "execution_count": 281,
   "metadata": {},
   "outputs": [
    {
     "data": {
      "text/plain": [
       "[<matplotlib.lines.Line2D at 0x7fcd5dc1ab10>]"
      ]
     },
     "execution_count": 281,
     "metadata": {},
     "output_type": "execute_result"
    },
    {
     "data": {
      "image/png": "[encoded data removed]",
      "text/plain": [
       "<Figure size 432x288 with 1 Axes>"
      ]
     },
     "metadata": {
      "needs_background": "light"
     },
     "output_type": "display_data"
    }
   ],
   "source": [
    "plt.plot(num_cases)"
   ]
  },
  {
   "cell_type": "code",
   "execution_count": 282,
   "metadata": {},
   "outputs": [
    {
     "data": {
      "text/plain": [
       "6848"
      ]
     },
     "execution_count": 282,
     "metadata": {},
     "output_type": "execute_result"
    }
   ],
   "source": [
    "sum(num_cases)"
   ]
  },
  {
   "cell_type": "code",
   "execution_count": null,
   "metadata": {},
   "outputs": [],
   "source": []
  }
 ],
 "metadata": {
  "kernelspec": {
   "display_name": "Python 3",
   "language": "python",
   "name": "python3"
  },
  "language_info": {
   "codemirror_mode": {
    "name": "ipython",
    "version": 3
   },
   "file_extension": ".py",
   "mimetype": "text/x-python",
   "name": "python",
   "nbconvert_exporter": "python",
   "pygments_lexer": "ipython3",
   "version": "3.7.6"
  }
 },
 "nbformat": 4,
 "nbformat_minor": 4
}
