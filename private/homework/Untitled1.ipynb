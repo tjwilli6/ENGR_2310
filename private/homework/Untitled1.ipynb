{
 "cells": [
  {
   "cell_type": "code",
   "execution_count": 64,
   "metadata": {},
   "outputs": [],
   "source": [
    "import numpy as np\n",
    "import matplotlib.pyplot as plt"
   ]
  },
  {
   "cell_type": "code",
   "execution_count": 95,
   "metadata": {},
   "outputs": [
    {
     "name": "stdout",
     "output_type": "stream",
     "text": [
      "0.08060318036575978 0.004207522592379045\n"
     ]
    }
   ],
   "source": [
    "n = 100\n",
    "s = 1\n",
    "\n",
    "L = 1\n",
    "M = 1\n",
    "xi = -L/2\n",
    "xf = L/2\n",
    "dx = (xf-xi) / n\n",
    "x = np.arange(xi,xf,dx)\n",
    "y1 = lambda x:x**2 * np.exp(-0.5*x**2/s**2)\n",
    "y2 = lambda x:np.exp(-0.5*x**2/s**2)\n",
    "int1 = np.sum(  y1(x) * dx )\n",
    "int2 = np.sum( y2(x) * dx )\n",
    "I = M * int1 / int2\n",
    "\n",
    "dxplot = 1e-4\n",
    "xplot = np.arange(xi,xf,dxplot)\n",
    "M1 = np.abs(np.gradient(y1(xplot),xplot)).max()\n",
    "M2 = np.abs(np.gradient(y2(xplot),xplot)).max()\n",
    "dy1 = 0.5 * M1 * (xf-xi)**2 / n\n",
    "dy2 = 0.5 * M2 * (xf-xi)**2 / n\n",
    "dI = I * (dy1/int1 + dy2/int2)\n",
    "\n",
    "\n",
    "print(I,dI)"
   ]
  },
  {
   "cell_type": "code",
   "execution_count": 96,
   "metadata": {},
   "outputs": [
    {
     "name": "stdout",
     "output_type": "stream",
     "text": [
      "0.9598430837452068 0.07736640520194198\n"
     ]
    }
   ],
   "source": [
    "print(int2,int1)"
   ]
  },
  {
   "cell_type": "code",
   "execution_count": 88,
   "metadata": {},
   "outputs": [
    {
     "data": {
      "text/plain": [
       "0.00025"
      ]
     },
     "execution_count": 88,
     "metadata": {},
     "output_type": "execute_result"
    }
   ],
   "source": []
  },
  {
   "cell_type": "code",
   "execution_count": null,
   "metadata": {},
   "outputs": [],
   "source": []
  }
 ],
 "metadata": {
  "kernelspec": {
   "display_name": "Python 3",
   "language": "python",
   "name": "python3"
  },
  "language_info": {
   "codemirror_mode": {
    "name": "ipython",
    "version": 3
   },
   "file_extension": ".py",
   "mimetype": "text/x-python",
   "name": "python",
   "nbconvert_exporter": "python",
   "pygments_lexer": "ipython3",
   "version": "3.7.6"
  }
 },
 "nbformat": 4,
 "nbformat_minor": 4
}
