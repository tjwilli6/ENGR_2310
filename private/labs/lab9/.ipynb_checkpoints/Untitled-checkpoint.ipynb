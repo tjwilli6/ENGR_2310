{
 "cells": [
  {
   "cell_type": "code",
   "execution_count": 50,
   "metadata": {},
   "outputs": [],
   "source": [
    "import time,math"
   ]
  },
  {
   "cell_type": "code",
   "execution_count": 31,
   "metadata": {},
   "outputs": [],
   "source": [
    "tstart = time.time()\n",
    "N = 100000\n",
    "for i in range(N):\n",
    "    a = 2.3 - 0.1\n",
    "tstop = time.time()\n",
    "f = (tstop-tstart)/N"
   ]
  },
  {
   "cell_type": "code",
   "execution_count": 37,
   "metadata": {},
   "outputs": [
    {
     "data": {
      "text/plain": [
       "1.1463605553733465"
      ]
     },
     "execution_count": 37,
     "metadata": {},
     "output_type": "execute_result"
    }
   ],
   "source": [
    "1/f / 1e7"
   ]
  },
  {
   "cell_type": "code",
   "execution_count": 53,
   "metadata": {},
   "outputs": [],
   "source": [
    "def pow1(num,power):\n",
    "    total = 1\n",
    "    while power > 0:\n",
    "        total *= num\n",
    "        power -= 1\n",
    "    return total\n",
    "\n",
    "def pow2(num,power):\n",
    "    return num**power\n",
    "\n",
    "def pow3(num,power):\n",
    "    return math.pow(num,power)\n",
    "\n",
    "def timeit(fun,x=5,y=4,N=100_000):\n",
    "    t0 = time.time()\n",
    "    for i in range(N):\n",
    "        fun(x,y)\n",
    "    t1 = time.time()\n",
    "    return (t1-t0) / N"
   ]
  },
  {
   "cell_type": "code",
   "execution_count": 71,
   "metadata": {},
   "outputs": [
    {
     "data": {
      "text/plain": [
       "0.3333333333333333"
      ]
     },
     "execution_count": 71,
     "metadata": {},
     "output_type": "execute_result"
    }
   ],
   "source": [
    "two_thirds = 1/3 + 1/3\n",
    "two_thirds / 2"
   ]
  },
  {
   "cell_type": "code",
   "execution_count": 79,
   "metadata": {},
   "outputs": [
    {
     "data": {
      "text/plain": [
       "0.43560000000000004"
      ]
     },
     "execution_count": 79,
     "metadata": {},
     "output_type": "execute_result"
    }
   ],
   "source": [
    "0.66**2"
   ]
  },
  {
   "cell_type": "code",
   "execution_count": 118,
   "metadata": {},
   "outputs": [],
   "source": [
    "def to_base2(b10num):\n",
    "    power = 8\n",
    "    residual = b10num\n",
    "    digits = \"\"\n",
    "    while power > -25:\n",
    "        if 2**power <= residual:\n",
    "            residual -= 2**power\n",
    "            digits = digits + \"1\"\n",
    "        else:\n",
    "            digits = digits + \"0\"\n",
    "        print(power,digits)\n",
    "        power-=1\n",
    "        if power == -1:\n",
    "            digits = digits + \".\"\n",
    "    return digits"
   ]
  },
  {
   "cell_type": "code",
   "execution_count": 119,
   "metadata": {},
   "outputs": [
    {
     "name": "stdout",
     "output_type": "stream",
     "text": [
      "8 0\n",
      "7 00\n",
      "6 000\n",
      "5 0000\n",
      "4 00000\n",
      "3 000000\n",
      "2 0000000\n",
      "1 00000000\n",
      "0 000000000\n",
      "-1 000000000.0\n",
      "-2 000000000.00\n",
      "-3 000000000.000\n",
      "-4 000000000.0001\n",
      "-5 000000000.00011\n",
      "-6 000000000.000110\n",
      "-7 000000000.0001100\n",
      "-8 000000000.00011001\n",
      "-9 000000000.000110011\n",
      "-10 000000000.0001100110\n",
      "-11 000000000.00011001100\n",
      "-12 000000000.000110011001\n",
      "-13 000000000.0001100110011\n",
      "-14 000000000.00011001100110\n",
      "-15 000000000.000110011001100\n",
      "-16 000000000.0001100110011001\n",
      "-17 000000000.00011001100110011\n",
      "-18 000000000.000110011001100110\n",
      "-19 000000000.0001100110011001100\n",
      "-20 000000000.00011001100110011001\n",
      "-21 000000000.000110011001100110011\n",
      "-22 000000000.0001100110011001100110\n",
      "-23 000000000.00011001100110011001100\n",
      "-24 000000000.000110011001100110011001\n"
     ]
    },
    {
     "data": {
      "text/plain": [
       "'000000000.000110011001100110011001'"
      ]
     },
     "execution_count": 119,
     "metadata": {},
     "output_type": "execute_result"
    }
   ],
   "source": [
    "to_base2(0.1)"
   ]
  },
  {
   "cell_type": "code",
   "execution_count": null,
   "metadata": {},
   "outputs": [],
   "source": []
  }
 ],
 "metadata": {
  "kernelspec": {
   "display_name": "Python 3",
   "language": "python",
   "name": "python3"
  },
  "language_info": {
   "codemirror_mode": {
    "name": "ipython",
    "version": 3
   },
   "file_extension": ".py",
   "mimetype": "text/x-python",
   "name": "python",
   "nbconvert_exporter": "python",
   "pygments_lexer": "ipython3",
   "version": "3.7.6"
  }
 },
 "nbformat": 4,
 "nbformat_minor": 4
}
