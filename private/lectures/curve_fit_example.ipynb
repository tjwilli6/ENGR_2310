{
 "cells": [
  {
   "cell_type": "code",
   "execution_count": 1,
   "metadata": {},
   "outputs": [],
   "source": [
    "import numpy as np\n",
    "import matplotlib.pyplot as plt\n",
    "import scipy.optimize as opt"
   ]
  },
  {
   "cell_type": "code",
   "execution_count": 3,
   "metadata": {},
   "outputs": [
    {
     "data": {
      "text/plain": [
       "[<matplotlib.lines.Line2D at 0x7fb64fabde10>]"
      ]
     },
     "execution_count": 3,
     "metadata": {},
     "output_type": "execute_result"
    },
    {
     "data": {
      "image/png": "[encoded data removed]",
      "text/plain": [
       "<Figure size 432x288 with 1 Axes>"
      ]
     },
     "metadata": {
      "needs_background": "light"
     },
     "output_type": "display_data"
    }
   ],
   "source": [
    "def parabola(x):\n",
    "    return (x-3)**2 + 5\n",
    "xplot = np.linspace(-6,10,1000)\n",
    "yplot = parabola(xplot)\n",
    "plt.plot(xplot,yplot)"
   ]
  },
  {
   "cell_type": "code",
   "execution_count": 4,
   "metadata": {},
   "outputs": [],
   "source": [
    "result = opt.minimize(parabola,[0])"
   ]
  },
  {
   "cell_type": "code",
   "execution_count": 5,
   "metadata": {},
   "outputs": [
    {
     "name": "stdout",
     "output_type": "stream",
     "text": [
      "      fun: 5.000000000000001\n",
      " hess_inv: array([[0.5]])\n",
      "      jac: array([5.96046448e-08])\n",
      "  message: 'Optimization terminated successfully.'\n",
      "     nfev: 9\n",
      "      nit: 2\n",
      "     njev: 3\n",
      "   status: 0\n",
      "  success: True\n",
      "        x: array([3.00000003])\n"
     ]
    }
   ],
   "source": [
    "print(result)"
   ]
  },
  {
   "cell_type": "code",
   "execution_count": 6,
   "metadata": {},
   "outputs": [
    {
     "name": "stdout",
     "output_type": "stream",
     "text": [
      "The function is minimized at x=3.0000000283269603, f(x)=5.000000000000001\n"
     ]
    }
   ],
   "source": [
    "print(\"The function is minimized at x={}, f(x)={}\".format(result.x[0],result.fun))"
   ]
  },
  {
   "cell_type": "code",
   "execution_count": 7,
   "metadata": {},
   "outputs": [],
   "source": [
    "data = np.genfromtxt(\"datasets/current_vs_voltage.dat\",skip_header=1)"
   ]
  },
  {
   "cell_type": "code",
   "execution_count": 8,
   "metadata": {},
   "outputs": [
    {
     "name": "stdout",
     "output_type": "stream",
     "text": [
      "[[ 0.          0.        ]\n",
      " [ 0.5         0.02462258]\n",
      " [ 1.          0.03013747]\n",
      " [ 1.5         0.0735979 ]\n",
      " [ 2.          0.08889265]\n",
      " [ 2.5         0.12399148]\n",
      " [ 3.          0.14418374]\n",
      " [ 3.5         0.11710446]\n",
      " [ 4.          0.23149946]\n",
      " [ 4.5         0.20991612]\n",
      " [ 5.          0.28046081]\n",
      " [ 5.5         0.29488925]\n",
      " [ 6.          0.37416763]\n",
      " [ 6.5         0.31530116]\n",
      " [ 7.          0.27990944]\n",
      " [ 7.5         0.37675056]\n",
      " [ 8.          0.36338891]\n",
      " [ 8.5         0.49656263]\n",
      " [ 9.          0.43667777]\n",
      " [ 9.5         0.5557755 ]\n",
      " [10.          0.36119425]\n",
      " [10.5         0.57877457]\n",
      " [11.          0.52443137]\n",
      " [11.5         0.53537492]\n",
      " [12.          0.5242314 ]]\n"
     ]
    }
   ],
   "source": [
    "print(data)"
   ]
  },
  {
   "cell_type": "code",
   "execution_count": 9,
   "metadata": {},
   "outputs": [
    {
     "data": {
      "text/plain": [
       "<matplotlib.collections.PathCollection at 0x7fb64fbf4ed0>"
      ]
     },
     "execution_count": 9,
     "metadata": {},
     "output_type": "execute_result"
    },
    {
     "data": {
      "image/png": "[encoded data removed]",
      "text/plain": [
       "<Figure size 432x288 with 1 Axes>"
      ]
     },
     "metadata": {
      "needs_background": "light"
     },
     "output_type": "display_data"
    }
   ],
   "source": [
    "voltage = data[:,0]\n",
    "current = data[:,1]\n",
    "plt.scatter(voltage,current)"
   ]
  },
  {
   "cell_type": "code",
   "execution_count": 10,
   "metadata": {},
   "outputs": [],
   "source": [
    "def residuals(R):\n",
    "    s = 0\n",
    "    for i in range(voltage.size):\n",
    "        imeas = current[i]\n",
    "        ipred = voltage[i] / R\n",
    "        s += (imeas - ipred)**2\n",
    "    return s"
   ]
  },
  {
   "cell_type": "code",
   "execution_count": 24,
   "metadata": {},
   "outputs": [],
   "source": [
    "result = opt.minimize(residuals,[10])"
   ]
  },
  {
   "cell_type": "code",
   "execution_count": 25,
   "metadata": {},
   "outputs": [
    {
     "name": "stdout",
     "output_type": "stream",
     "text": [
      "The residuals are minimized at R=20.519\n"
     ]
    }
   ],
   "source": [
    "print(\"The residuals are minimized at R={:.3f}\".format(result.x[0]))"
   ]
  },
  {
   "cell_type": "code",
   "execution_count": null,
   "metadata": {},
   "outputs": [],
   "source": []
  },
  {
   "cell_type": "code",
   "execution_count": 26,
   "metadata": {},
   "outputs": [],
   "source": [
    "#model\n",
    "def current_func(V,R):\n",
    "    return V/R"
   ]
  },
  {
   "cell_type": "code",
   "execution_count": 27,
   "metadata": {},
   "outputs": [],
   "source": [
    "popt,pcov = opt.curve_fit(current_func,voltage,current)"
   ]
  },
  {
   "cell_type": "code",
   "execution_count": 28,
   "metadata": {},
   "outputs": [
    {
     "name": "stdout",
     "output_type": "stream",
     "text": [
      "The best-fit value for R is: 20.519067055737914\n"
     ]
    }
   ],
   "source": [
    "print(\"The best-fit value for R is: {}\".format(popt[0]))"
   ]
  },
  {
   "cell_type": "code",
   "execution_count": 30,
   "metadata": {},
   "outputs": [
    {
     "data": {
      "text/plain": [
       "[<matplotlib.lines.Line2D at 0x7fb64fe8ce90>]"
      ]
     },
     "execution_count": 30,
     "metadata": {},
     "output_type": "execute_result"
    },
    {
     "data": {
      "image/png": "[encoded data removed]",
      "text/plain": [
       "<Figure size 432x288 with 1 Axes>"
      ]
     },
     "metadata": {
      "needs_background": "light"
     },
     "output_type": "display_data"
    }
   ],
   "source": [
    "vplot = np.linspace(voltage.min(),voltage.max(),100)\n",
    "yplot = current_func(vplot,popt[0])\n",
    "plt.scatter(voltage,current)\n",
    "plt.plot(vplot,yplot,c='green')"
   ]
  },
  {
   "cell_type": "code",
   "execution_count": 32,
   "metadata": {},
   "outputs": [],
   "source": [
    "uncert = np.sqrt(np.diag(pcov))"
   ]
  },
  {
   "cell_type": "code",
   "execution_count": 33,
   "metadata": {},
   "outputs": [
    {
     "name": "stdout",
     "output_type": "stream",
     "text": [
      "[0.59282835]\n"
     ]
    }
   ],
   "source": [
    "print(uncert)"
   ]
  },
  {
   "cell_type": "code",
   "execution_count": 34,
   "metadata": {},
   "outputs": [
    {
     "name": "stdout",
     "output_type": "stream",
     "text": [
      "Best fit value is 20.52+-0.59\n"
     ]
    }
   ],
   "source": [
    "print(\"Best fit value is {:.2f}+-{:.2f}\".format(popt[0],uncert[0]))"
   ]
  },
  {
   "cell_type": "code",
   "execution_count": null,
   "metadata": {},
   "outputs": [],
   "source": []
  }
 ],
 "metadata": {
  "kernelspec": {
   "display_name": "Python 3",
   "language": "python",
   "name": "python3"
  },
  "language_info": {
   "codemirror_mode": {
    "name": "ipython",
    "version": 3
   },
   "file_extension": ".py",
   "mimetype": "text/x-python",
   "name": "python",
   "nbconvert_exporter": "python",
   "pygments_lexer": "ipython3",
   "version": "3.7.6"
  }
 },
 "nbformat": 4,
 "nbformat_minor": 4
}
