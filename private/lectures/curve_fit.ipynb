{
 "cells": [
  {
   "cell_type": "code",
   "execution_count": 1,
   "metadata": {},
   "outputs": [],
   "source": [
    "import numpy as np\n",
    "import scipy.optimize as opt\n",
    "import matplotlib.pyplot as plt"
   ]
  },
  {
   "cell_type": "markdown",
   "metadata": {},
   "source": [
    "## Using scipy"
   ]
  },
  {
   "cell_type": "markdown",
   "metadata": {},
   "source": [
    "### [scipy.optimize.minimize](https://docs.scipy.org/doc/scipy/reference/generated/scipy.optimize.minimize.html)"
   ]
  },
  {
   "cell_type": "markdown",
   "metadata": {},
   "source": [
    "### Example"
   ]
  },
  {
   "cell_type": "code",
   "execution_count": 2,
   "metadata": {},
   "outputs": [
    {
     "data": {
      "text/plain": [
       "[<matplotlib.lines.Line2D at 0x7faa8d7f0290>]"
      ]
     },
     "execution_count": 2,
     "metadata": {},
     "output_type": "execute_result"
    },
    {
     "data": {
      "image/png": "[encoded data removed]",
      "text/plain": [
       "<Figure size 432x288 with 1 Axes>"
      ]
     },
     "metadata": {
      "needs_background": "light"
     },
     "output_type": "display_data"
    }
   ],
   "source": [
    "#Create function to be minimized\n",
    "def parabola(x):\n",
    "    return (x-3)**2 + 5\n",
    "\n",
    "xplot = np.linspace(-6,10,1000)\n",
    "yplot = parabola(xplot)\n",
    "plt.plot(xplot,yplot)"
   ]
  },
  {
   "cell_type": "code",
   "execution_count": 3,
   "metadata": {},
   "outputs": [
    {
     "name": "stdout",
     "output_type": "stream",
     "text": [
      "      fun: 5.000000000000001\n",
      " hess_inv: array([[0.5]])\n",
      "      jac: array([5.96046448e-08])\n",
      "  message: 'Optimization terminated successfully.'\n",
      "     nfev: 9\n",
      "      nit: 2\n",
      "     njev: 3\n",
      "   status: 0\n",
      "  success: True\n",
      "        x: array([3.00000003])\n"
     ]
    }
   ],
   "source": [
    "result = opt.minimize(parabola,[0])\n",
    "print(result)"
   ]
  },
  {
   "cell_type": "code",
   "execution_count": 4,
   "metadata": {},
   "outputs": [
    {
     "name": "stdout",
     "output_type": "stream",
     "text": [
      "The function is minmized at x=3.0000000283269603, f(x)=5.000000000000001\n"
     ]
    }
   ],
   "source": [
    "print(\"The function is minmized at x={}, f(x)={}\".format(result.x[0],result.fun))"
   ]
  },
  {
   "cell_type": "code",
   "execution_count": null,
   "metadata": {},
   "outputs": [],
   "source": []
  },
  {
   "cell_type": "code",
   "execution_count": null,
   "metadata": {},
   "outputs": [],
   "source": []
  },
  {
   "cell_type": "code",
   "execution_count": null,
   "metadata": {},
   "outputs": [],
   "source": []
  },
  {
   "cell_type": "markdown",
   "metadata": {},
   "source": [
    "## Using the minimizer for curve fitting"
   ]
  },
  {
   "cell_type": "code",
   "execution_count": 5,
   "metadata": {},
   "outputs": [
    {
     "name": "stdout",
     "output_type": "stream",
     "text": [
      "voltage current\n",
      "0.0 0.0\n",
      "0.5 0.024622583018826805\n",
      "1.0 0.030137467072485186\n",
      "1.5 0.073597904594552\n",
      "2.0 0.08889264504403813\n",
      "2.5 0.12399147905759039\n",
      "3.0 0.1441837430664787\n",
      "3.5 0.11710445518081906\n",
      "4.0 0.23149945668221925\n",
      "4.5 0.2099161164814378\n",
      "5.0 0.2804608109013857\n",
      "5.5 0.29488924919434784\n",
      "6.0 0.374167630589526\n",
      "6.5 0.3153011630443429\n",
      "7.0 0.2799094388098678\n",
      "7.5 0.37675055900833854\n",
      "8.0 0.3633889099166405\n",
      "8.5 0.4965626299571659\n",
      "9.0 0.4366777740972727\n",
      "9.5 0.5557754992763733\n",
      "10.0 0.36119424660252475\n",
      "10.5 0.5787745657432957\n",
      "11.0 0.5244313652567868\n",
      "11.5 0.5353749218066816\n",
      "12.0 0.5242314047198181\n"
     ]
    }
   ],
   "source": [
    "!cat datasets/current_vs_voltage.dat"
   ]
  },
  {
   "cell_type": "code",
   "execution_count": 6,
   "metadata": {},
   "outputs": [
    {
     "name": "stdout",
     "output_type": "stream",
     "text": [
      "[[ 0.          0.        ]\n",
      " [ 0.5         0.02462258]\n",
      " [ 1.          0.03013747]\n",
      " [ 1.5         0.0735979 ]\n",
      " [ 2.          0.08889265]\n",
      " [ 2.5         0.12399148]\n",
      " [ 3.          0.14418374]\n",
      " [ 3.5         0.11710446]\n",
      " [ 4.          0.23149946]\n",
      " [ 4.5         0.20991612]\n",
      " [ 5.          0.28046081]\n",
      " [ 5.5         0.29488925]\n",
      " [ 6.          0.37416763]\n",
      " [ 6.5         0.31530116]\n",
      " [ 7.          0.27990944]\n",
      " [ 7.5         0.37675056]\n",
      " [ 8.          0.36338891]\n",
      " [ 8.5         0.49656263]\n",
      " [ 9.          0.43667777]\n",
      " [ 9.5         0.5557755 ]\n",
      " [10.          0.36119425]\n",
      " [10.5         0.57877457]\n",
      " [11.          0.52443137]\n",
      " [11.5         0.53537492]\n",
      " [12.          0.5242314 ]]\n"
     ]
    }
   ],
   "source": [
    "data = np.genfromtxt(\"datasets/current_vs_voltage.dat\",skip_header=1)\n",
    "print(data)"
   ]
  },
  {
   "cell_type": "code",
   "execution_count": 7,
   "metadata": {},
   "outputs": [
    {
     "data": {
      "text/plain": [
       "<matplotlib.collections.PathCollection at 0x7faa8d95a510>"
      ]
     },
     "execution_count": 7,
     "metadata": {},
     "output_type": "execute_result"
    },
    {
     "data": {
      "image/png": "[encoded data removed]",
      "text/plain": [
       "<Figure size 432x288 with 1 Axes>"
      ]
     },
     "metadata": {
      "needs_background": "light"
     },
     "output_type": "display_data"
    }
   ],
   "source": [
    "voltage = data[:,0]\n",
    "current = data[:,1]\n",
    "plt.scatter(voltage,current)"
   ]
  },
  {
   "cell_type": "markdown",
   "metadata": {},
   "source": [
    "### model:\n",
    "$I = V/R$"
   ]
  },
  {
   "cell_type": "code",
   "execution_count": 8,
   "metadata": {},
   "outputs": [],
   "source": [
    "def residuals(R):\n",
    "    s = 0\n",
    "    for i in range(voltage.size):\n",
    "        imeas = current[i]\n",
    "        ipred = voltage[i] / R\n",
    "        s += (imeas - ipred)**2\n",
    "    return s"
   ]
  },
  {
   "cell_type": "code",
   "execution_count": 9,
   "metadata": {},
   "outputs": [
    {
     "name": "stdout",
     "output_type": "stream",
     "text": [
      "The residuals are minmized at R=20.51906342539265, S(R)=0.05828806629427458\n"
     ]
    }
   ],
   "source": [
    "result = opt.minimize(residuals,[10])\n",
    "print(\"The residuals are minmized at R={}, S(R)={}\".format(result.x[0],result.fun))"
   ]
  },
  {
   "cell_type": "code",
   "execution_count": null,
   "metadata": {},
   "outputs": [],
   "source": []
  },
  {
   "cell_type": "code",
   "execution_count": null,
   "metadata": {},
   "outputs": [],
   "source": []
  },
  {
   "cell_type": "markdown",
   "metadata": {},
   "source": [
    "### An easier (and better) way\n",
    "[scipy.optimize.curve_fit](https://docs.scipy.org/doc/scipy/reference/generated/scipy.optimize.curve_fit.html)"
   ]
  },
  {
   "cell_type": "code",
   "execution_count": 10,
   "metadata": {},
   "outputs": [],
   "source": [
    "def current_func(V,R):\n",
    "    return V / R"
   ]
  },
  {
   "cell_type": "code",
   "execution_count": 11,
   "metadata": {},
   "outputs": [],
   "source": [
    "popt,pcov = opt.curve_fit(current_func,voltage,current,absolute_sigma=0)"
   ]
  },
  {
   "cell_type": "code",
   "execution_count": 12,
   "metadata": {},
   "outputs": [
    {
     "name": "stdout",
     "output_type": "stream",
     "text": [
      "The best-fit value for R is: 20.519067055737914 ohms\n"
     ]
    }
   ],
   "source": [
    "print(\"The best-fit value for R is: {} ohms\".format(popt[0]))"
   ]
  },
  {
   "cell_type": "markdown",
   "metadata": {},
   "source": [
    "#### What is pcov?"
   ]
  },
  {
   "cell_type": "markdown",
   "metadata": {},
   "source": [
    "#### pcov is the *covariance matrix*"
   ]
  },
  {
   "cell_type": "code",
   "execution_count": null,
   "metadata": {},
   "outputs": [],
   "source": []
  },
  {
   "cell_type": "code",
   "execution_count": 13,
   "metadata": {},
   "outputs": [
    {
     "data": {
      "text/plain": [
       "[<matplotlib.lines.Line2D at 0x7faa8d95abd0>]"
      ]
     },
     "execution_count": 13,
     "metadata": {},
     "output_type": "execute_result"
    },
    {
     "data": {
      "image/png": "[encoded data removed]",
      "text/plain": [
       "<Figure size 432x288 with 1 Axes>"
      ]
     },
     "metadata": {
      "needs_background": "light"
     },
     "output_type": "display_data"
    }
   ],
   "source": [
    "deltaR = np.sqrt( np.diag(pcov) )\n",
    "vplot = np.linspace(voltage.min(),voltage.max(),1000)\n",
    "ymean = current_func(vplot,popt[0])\n",
    "plt.scatter(voltage,current)\n",
    "plt.plot(vplot,ymean,c='green')"
   ]
  },
  {
   "cell_type": "code",
   "execution_count": 14,
   "metadata": {},
   "outputs": [
    {
     "data": {
      "text/plain": [
       "[<matplotlib.lines.Line2D at 0x7faa8dad3790>]"
      ]
     },
     "execution_count": 14,
     "metadata": {},
     "output_type": "execute_result"
    },
    {
     "data": {
      "image/png": "[encoded data removed]",
      "text/plain": [
       "<Figure size 432x288 with 1 Axes>"
      ]
     },
     "metadata": {
      "needs_background": "light"
     },
     "output_type": "display_data"
    }
   ],
   "source": [
    "deltaR = np.sqrt( np.diag(pcov) )\n",
    "vplot = np.linspace(voltage.min(),voltage.max(),1000)\n",
    "ymean = current_func(vplot,popt[0])\n",
    "yupper = current_func(vplot,popt[0]-deltaR)\n",
    "ylower = current_func(vplot,popt[0]+deltaR)\n",
    "plt.scatter(voltage,current)\n",
    "plt.plot(vplot,ymean,c='green')\n",
    "plt.plot(vplot,ylower,ls='--',c='green')\n",
    "plt.plot(vplot,yupper,ls='--',c='green')"
   ]
  },
  {
   "cell_type": "code",
   "execution_count": null,
   "metadata": {},
   "outputs": [],
   "source": []
  },
  {
   "cell_type": "code",
   "execution_count": null,
   "metadata": {},
   "outputs": [],
   "source": []
  },
  {
   "cell_type": "markdown",
   "metadata": {},
   "source": [
    "### Hubble's Constant"
   ]
  },
  {
   "cell_type": "code",
   "execution_count": 19,
   "metadata": {},
   "outputs": [
    {
     "name": "stdout",
     "output_type": "stream",
     "text": [
      "R (Mpc) v (km/sec)\n",
      "0.032\t170\n",
      "0.03\t290\n",
      "0.214\t-130\n",
      "0.263\t-70\n",
      "0.275\t-185\n",
      "0.275\t-220\n",
      "0.45\t200\n",
      "0.5\t290\n",
      "0.5\t270\n",
      "0.63\t200\n",
      "0.8\t300\n",
      "0.9\t-30\n",
      "0.9\t650\n",
      "0.9\t150\n",
      "0.9\t500\n",
      "1\t920\n",
      "1.1\t450\n",
      "1.1\t500\n",
      "1.4\t500\n",
      "1.7\t960\n",
      "2\t500\n",
      "2\t850\n",
      "2\t800\n",
      "2\t1090"
     ]
    }
   ],
   "source": [
    "!cat datasets/hubble.dat"
   ]
  },
  {
   "cell_type": "code",
   "execution_count": 20,
   "metadata": {},
   "outputs": [],
   "source": [
    "hubble_data = np.genfromtxt(\"datasets/hubble.dat\",skip_header=1)\n",
    "dist = hubble_data[:,0]\n",
    "vel = hubble_data[:,1]"
   ]
  },
  {
   "cell_type": "code",
   "execution_count": 21,
   "metadata": {},
   "outputs": [
    {
     "data": {
      "text/plain": [
       "<matplotlib.collections.PathCollection at 0x7faa8e994ad0>"
      ]
     },
     "execution_count": 21,
     "metadata": {},
     "output_type": "execute_result"
    },
    {
     "data": {
      "image/png": "[encoded data removed]",
      "text/plain": [
       "<Figure size 432x288 with 1 Axes>"
      ]
     },
     "metadata": {
      "needs_background": "light"
     },
     "output_type": "display_data"
    }
   ],
   "source": [
    "plt.scatter(dist,vel)"
   ]
  },
  {
   "cell_type": "code",
   "execution_count": 28,
   "metadata": {},
   "outputs": [],
   "source": [
    "def linear_model(x,m,b):\n",
    "    return m * x + b"
   ]
  },
  {
   "cell_type": "code",
   "execution_count": 35,
   "metadata": {},
   "outputs": [
    {
     "name": "stdout",
     "output_type": "stream",
     "text": [
      "The best fit values are 453.86+-75.25, -40.44+-83.45\n"
     ]
    }
   ],
   "source": [
    "popt,pcov = opt.curve_fit(linear_model,dist,vel,p0=[70,0])\n",
    "uncert = np.sqrt(np.diag(pcov))\n",
    "print(\"The best fit values are {:.2f}+-{:.2f}, {:.2f}+-{:.2f}\".format(popt[0],uncert[0],popt[1],uncert[1]))"
   ]
  },
  {
   "cell_type": "code",
   "execution_count": 37,
   "metadata": {},
   "outputs": [
    {
     "data": {
      "text/plain": [
       "[<matplotlib.lines.Line2D at 0x7faa8eea3a90>]"
      ]
     },
     "execution_count": 37,
     "metadata": {},
     "output_type": "execute_result"
    },
    {
     "data": {
      "image/png": "[encoded data removed]",
      "text/plain": [
       "<Figure size 432x288 with 1 Axes>"
      ]
     },
     "metadata": {
      "needs_background": "light"
     },
     "output_type": "display_data"
    }
   ],
   "source": [
    "xplot = np.linspace(dist.min(),dist.max(),100)\n",
    "ymean = linear_model(xplot,popt[0],popt[1])\n",
    "plt.scatter(dist,vel)\n",
    "plt.plot(xplot,ymean,c='green')"
   ]
  },
  {
   "cell_type": "code",
   "execution_count": null,
   "metadata": {},
   "outputs": [],
   "source": []
  },
  {
   "cell_type": "code",
   "execution_count": null,
   "metadata": {},
   "outputs": [],
   "source": []
  },
  {
   "cell_type": "code",
   "execution_count": null,
   "metadata": {},
   "outputs": [],
   "source": []
  },
  {
   "cell_type": "code",
   "execution_count": 64,
   "metadata": {},
   "outputs": [],
   "source": [
    "data = np.genfromtxt(\"datasets/radioactive_decay.dat\",skip_header=1)\n",
    "time = data[:,0]\n",
    "mass = data[:,1]"
   ]
  },
  {
   "cell_type": "code",
   "execution_count": 65,
   "metadata": {},
   "outputs": [
    {
     "data": {
      "text/plain": [
       "<matplotlib.collections.PathCollection at 0x7faa90596fd0>"
      ]
     },
     "execution_count": 65,
     "metadata": {},
     "output_type": "execute_result"
    },
    {
     "data": {
      "image/png": "[encoded data removed]",
      "text/plain": [
       "<Figure size 432x288 with 1 Axes>"
      ]
     },
     "metadata": {
      "needs_background": "light"
     },
     "output_type": "display_data"
    }
   ],
   "source": [
    "plt.scatter(time,mass)"
   ]
  },
  {
   "cell_type": "code",
   "execution_count": 52,
   "metadata": {},
   "outputs": [],
   "source": [
    "def func_exp(t,A,tau):\n",
    "    return A * np.exp(-t/tau)"
   ]
  },
  {
   "cell_type": "code",
   "execution_count": 69,
   "metadata": {},
   "outputs": [],
   "source": [
    "popt,pcov = opt.curve_fit(func_exp,time,mass,p0=[5,1000])\n",
    "uncert = np.sqrt(np.diag(pcov))"
   ]
  },
  {
   "cell_type": "code",
   "execution_count": 70,
   "metadata": {},
   "outputs": [
    {
     "name": "stdout",
     "output_type": "stream",
     "text": [
      "The best fit values are 14.09+-0.34, 8918.81+-323.72\n"
     ]
    }
   ],
   "source": [
    "print(\"The best fit values are {:.2f}+-{:.2f}, {:.2f}+-{:.2f}\".format(popt[0],uncert[0],popt[1],uncert[1]))"
   ]
  },
  {
   "cell_type": "code",
   "execution_count": 77,
   "metadata": {},
   "outputs": [
    {
     "name": "stdout",
     "output_type": "stream",
     "text": [
      "The half life is 6182.05+-224.39\n",
      "The true value is: 5730\n"
     ]
    }
   ],
   "source": [
    "print(\"The half life is {:.2f}+-{:.2f}\".format(popt[1]*np.log(2),uncert[1]*np.log(2)))\n",
    "print(\"The true value is: 5730\")"
   ]
  },
  {
   "cell_type": "code",
   "execution_count": 68,
   "metadata": {},
   "outputs": [
    {
     "data": {
      "text/plain": [
       "[<matplotlib.lines.Line2D at 0x7faa90708750>]"
      ]
     },
     "execution_count": 68,
     "metadata": {},
     "output_type": "execute_result"
    },
    {
     "data": {
      "image/png": "[encoded data removed]",
      "text/plain": [
       "<Figure size 432x288 with 1 Axes>"
      ]
     },
     "metadata": {
      "needs_background": "light"
     },
     "output_type": "display_data"
    }
   ],
   "source": [
    "xplot = np.linspace(time.min(),time.max(),100)\n",
    "yplot = func_exp(xplot,popt[0],popt[1])\n",
    "plt.scatter(time,mass)\n",
    "plt.plot(xplot,yplot,c='green')"
   ]
  },
  {
   "cell_type": "code",
   "execution_count": null,
   "metadata": {},
   "outputs": [],
   "source": []
  }
 ],
 "metadata": {
  "kernelspec": {
   "display_name": "Python 3",
   "language": "python",
   "name": "python3"
  },
  "language_info": {
   "codemirror_mode": {
    "name": "ipython",
    "version": 3
   },
   "file_extension": ".py",
   "mimetype": "text/x-python",
   "name": "python",
   "nbconvert_exporter": "python",
   "pygments_lexer": "ipython3",
   "version": "3.7.6"
  }
 },
 "nbformat": 4,
 "nbformat_minor": 4
}
