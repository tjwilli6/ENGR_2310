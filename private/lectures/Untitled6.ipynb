{
 "cells": [
  {
   "cell_type": "code",
   "execution_count": 3,
   "metadata": {},
   "outputs": [],
   "source": [
    "import numpy as np\n",
    "import matplotlib.pyplot as plt"
   ]
  },
  {
   "cell_type": "code",
   "execution_count": 5,
   "metadata": {},
   "outputs": [
    {
     "data": {
      "text/plain": [
       "Text(0, 0.5, 'y')"
      ]
     },
     "execution_count": 5,
     "metadata": {},
     "output_type": "execute_result"
    },
    {
     "data": {
      "image/png": "[encoded data removed]",
      "text/plain": [
       "<Figure size 432x288 with 1 Axes>"
      ]
     },
     "metadata": {
      "needs_background": "light"
     },
     "output_type": "display_data"
    }
   ],
   "source": [
    "x = np.linspace(1,10,10)\n",
    "ymeas = 3 * x + 5\n",
    "plt.scatter(x,ymeas)\n",
    "plt.xlabel('x')\n",
    "plt.ylabel('y')"
   ]
  },
  {
   "cell_type": "code",
   "execution_count": 6,
   "metadata": {},
   "outputs": [
    {
     "name": "stdout",
     "output_type": "stream",
     "text": [
      "3.0 5.0\n"
     ]
    }
   ],
   "source": [
    "xmean = x.mean()\n",
    "ymean = ymeas.mean()\n",
    "\n",
    "num = 0\n",
    "denom = 0\n",
    "\n",
    "for i in range(x.size):\n",
    "    term1 = (x[i]-xmean) * (ymeas[i] - ymean)\n",
    "    num += term1\n",
    "    denom += (x[i] - xmean)**2\n",
    "    \n",
    "slope = num / denom\n",
    "\n",
    "intercept = ymean - slope * xmean\n",
    "\n",
    "print(slope,intercept)"
   ]
  },
  {
   "cell_type": "code",
   "execution_count": 8,
   "metadata": {},
   "outputs": [
    {
     "data": {
      "text/plain": [
       "[<matplotlib.lines.Line2D at 0x7f95a2817f50>]"
      ]
     },
     "execution_count": 8,
     "metadata": {},
     "output_type": "execute_result"
    },
    {
     "data": {
      "image/png": "[encoded data removed]",
      "text/plain": [
       "<Figure size 432x288 with 1 Axes>"
      ]
     },
     "metadata": {
      "needs_background": "light"
     },
     "output_type": "display_data"
    }
   ],
   "source": [
    "xplot = np.linspace(x.min(),x.max(),1000)\n",
    "yplot = slope * xplot + intercept\n",
    "#plot data\n",
    "plt.scatter(x,ymeas)\n",
    "plt.plot(xplot,yplot,c='green')"
   ]
  },
  {
   "cell_type": "code",
   "execution_count": null,
   "metadata": {},
   "outputs": [],
   "source": []
  },
  {
   "cell_type": "code",
   "execution_count": null,
   "metadata": {},
   "outputs": [],
   "source": []
  },
  {
   "cell_type": "code",
   "execution_count": null,
   "metadata": {},
   "outputs": [],
   "source": []
  },
  {
   "cell_type": "code",
   "execution_count": 13,
   "metadata": {},
   "outputs": [
    {
     "data": {
      "text/plain": [
       "<matplotlib.collections.PathCollection at 0x7f95a2b42d90>"
      ]
     },
     "execution_count": 13,
     "metadata": {},
     "output_type": "execute_result"
    },
    {
     "data": {
      "image/png": "[encoded data removed]",
      "text/plain": [
       "<Figure size 432x288 with 1 Axes>"
      ]
     },
     "metadata": {
      "needs_background": "light"
     },
     "output_type": "display_data"
    }
   ],
   "source": [
    "#Creating fake data\n",
    "x = np.linspace(1,10,10)\n",
    "ytrue = 3 * x + 5\n",
    "ymeas = ytrue * np.random.normal(1,0.15,size=x.size)\n",
    "plt.scatter(x,ymeas)"
   ]
  },
  {
   "cell_type": "code",
   "execution_count": 18,
   "metadata": {},
   "outputs": [
    {
     "name": "stdout",
     "output_type": "stream",
     "text": [
      "2.4855199799572376 9.81401056761295\n"
     ]
    }
   ],
   "source": [
    "#xmean = x.mean()\n",
    "#ymean = ymeas.mean()\n",
    "\n",
    "#num = 0\n",
    "#denom = 0\n",
    "\n",
    "#for i in range(x.size):\n",
    "#    term1 = (x[i]-xmean) * (ymeas[i] - ymean)\n",
    "#    num += term1\n",
    "#    denom += (x[i] - xmean)**2\n",
    "    \n",
    "#slope = num / denom\n",
    "\n",
    "#intercept = ymean - slope * xmean\n",
    "\n",
    "slope = np.sum((x - x.mean()) * (ymeas - ymean.mean())) / np.sum((x-x.mean())**2)\n",
    "intercept = ymeas.mean() - slope * x.mean()\n",
    "\n",
    "print(slope,intercept)"
   ]
  },
  {
   "cell_type": "code",
   "execution_count": 19,
   "metadata": {},
   "outputs": [
    {
     "data": {
      "text/plain": [
       "[<matplotlib.lines.Line2D at 0x7f95a27e6f10>]"
      ]
     },
     "execution_count": 19,
     "metadata": {},
     "output_type": "execute_result"
    },
    {
     "data": {
      "image/png": "[encoded data removed]",
      "text/plain": [
       "<Figure size 432x288 with 1 Axes>"
      ]
     },
     "metadata": {
      "needs_background": "light"
     },
     "output_type": "display_data"
    }
   ],
   "source": [
    "xplot = np.linspace(x.min(),x.max(),1000)\n",
    "yplot = slope * xplot + intercept\n",
    "plt.scatter(x,ymeas)\n",
    "plt.plot(xplot,yplot,c='green')"
   ]
  },
  {
   "cell_type": "code",
   "execution_count": null,
   "metadata": {},
   "outputs": [],
   "source": []
  }
 ],
 "metadata": {
  "kernelspec": {
   "display_name": "Python 3",
   "language": "python",
   "name": "python3"
  },
  "language_info": {
   "codemirror_mode": {
    "name": "ipython",
    "version": 3
   },
   "file_extension": ".py",
   "mimetype": "text/x-python",
   "name": "python",
   "nbconvert_exporter": "python",
   "pygments_lexer": "ipython3",
   "version": "3.7.6"
  }
 },
 "nbformat": 4,
 "nbformat_minor": 4
}
