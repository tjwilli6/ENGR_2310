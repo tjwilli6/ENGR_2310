{
 "cells": [
  {
   "cell_type": "markdown",
   "metadata": {},
   "source": [
    "Factorial Code"
   ]
  },
  {
   "cell_type": "code",
   "execution_count": 3,
   "metadata": {},
   "outputs": [],
   "source": [
    "#Example: input = 5\n",
    "# 5 * 4 * 3 * 2 * 1\n",
    "#Write a loop that starts at 5, ends at 1\n",
    "#Multiply all the numbers together"
   ]
  },
  {
   "cell_type": "code",
   "execution_count": 4,
   "metadata": {},
   "outputs": [],
   "source": [
    "#result = 1\n",
    "#result = result * 5 -->5\n",
    "#result = result * 4 -->5*4=20\n",
    "#result = result * 3 -->20*3=5*4*3=60\n",
    "#result = result * 2 -->60*2 = 5*4*3*2 = 120\n",
    "#result = result * 1 --> 5*4*3*2*1 = 120"
   ]
  },
  {
   "cell_type": "code",
   "execution_count": 40,
   "metadata": {},
   "outputs": [],
   "source": [
    "#Factorial.py"
   ]
  },
  {
   "cell_type": "code",
   "execution_count": 2,
   "metadata": {},
   "outputs": [
    {
     "name": "stdin",
     "output_type": "stream",
     "text": [
      "Enter the number 5\n"
     ]
    },
    {
     "name": "stdout",
     "output_type": "stream",
     "text": [
      "120\n"
     ]
    }
   ],
   "source": [
    "number = int(input(\"Enter the number\"))\n",
    "result = 1\n",
    "while number > 0:\n",
    "    result = result * number\n",
    "    number = number - 1\n",
    "print(result)"
   ]
  },
  {
   "cell_type": "markdown",
   "metadata": {},
   "source": [
    "Sine code"
   ]
  },
  {
   "cell_type": "code",
   "execution_count": 8,
   "metadata": {},
   "outputs": [],
   "source": [
    "#First just write a program to print out the odd numbers"
   ]
  },
  {
   "cell_type": "code",
   "execution_count": 7,
   "metadata": {},
   "outputs": [
    {
     "name": "stdin",
     "output_type": "stream",
     "text": [
      "How many terms to calculate?  5\n",
      "Point to evaluate sine?  3\n"
     ]
    },
    {
     "name": "stdout",
     "output_type": "stream",
     "text": [
      "1\n",
      "3\n",
      "5\n"
     ]
    }
   ],
   "source": [
    "num_of_terms = int(input(\"How many terms to calculate? \"))\n",
    "x = float(input(\"Point to evaluate sine? \"))\n",
    "current_term_num = 0\n",
    "while current_term_num <= num_of_terms:\n",
    "    if current_term_num % 2 == 0:\n",
    "        current_term_num = current_term_num + 1\n",
    "        continue\n",
    "    print(current_term_num)\n",
    "    current_term_num = current_term_num + 1"
   ]
  },
  {
   "cell_type": "markdown",
   "metadata": {},
   "source": [
    "Now add in the factorial code"
   ]
  },
  {
   "cell_type": "code",
   "execution_count": 11,
   "metadata": {},
   "outputs": [
    {
     "name": "stdin",
     "output_type": "stream",
     "text": [
      "How many terms to calculate?  10\n",
      "Point to evaluate sine?  3\n"
     ]
    },
    {
     "name": "stdout",
     "output_type": "stream",
     "text": [
      "1 1\n",
      "3 6\n",
      "5 120\n",
      "7 5040\n",
      "9 362880\n"
     ]
    }
   ],
   "source": [
    "num_of_terms = int(input(\"How many terms to calculate? \"))\n",
    "x = float(input(\"Point to evaluate sine? \"))\n",
    "current_term_num = 0\n",
    "while current_term_num <= num_of_terms:\n",
    "    #Discard even number terms\n",
    "    if current_term_num % 2 == 0:\n",
    "        current_term_num = current_term_num + 1\n",
    "        continue\n",
    "    #Calculate current_term_num! (factorial)\n",
    "    factorial = 1\n",
    "    number = current_term_num\n",
    "    while number > 0:\n",
    "        factorial = factorial * number\n",
    "        number = number - 1\n",
    "    print(current_term_num,factorial)\n",
    "    current_term_num = current_term_num + 1"
   ]
  },
  {
   "cell_type": "markdown",
   "metadata": {},
   "source": [
    "Abs value of each term"
   ]
  },
  {
   "cell_type": "code",
   "execution_count": 12,
   "metadata": {},
   "outputs": [
    {
     "name": "stdin",
     "output_type": "stream",
     "text": [
      "How many terms to calculate?  5\n",
      "Point to evaluate sine?  3\n"
     ]
    },
    {
     "name": "stdout",
     "output_type": "stream",
     "text": [
      "3.0\n",
      "4.5\n",
      "2.025\n"
     ]
    }
   ],
   "source": [
    "num_of_terms = int(input(\"How many terms to calculate? \"))\n",
    "x = float(input(\"Point to evaluate sine? \"))\n",
    "current_term_num = 0\n",
    "while current_term_num <= num_of_terms:\n",
    "    #Discard even number terms\n",
    "    if current_term_num % 2 == 0:\n",
    "        current_term_num = current_term_num + 1\n",
    "        continue\n",
    "    #Calculate current_term_num! (factorial)\n",
    "    factorial = 1\n",
    "    number = current_term_num\n",
    "    while number > 0:\n",
    "        factorial = factorial * number\n",
    "        number = number - 1\n",
    "    current_term_value = x**current_term_num / factorial\n",
    "    print(current_term_value)\n",
    "    current_term_num = current_term_num + 1"
   ]
  },
  {
   "cell_type": "markdown",
   "metadata": {},
   "source": [
    "How to get an alternating sign?"
   ]
  },
  {
   "cell_type": "code",
   "execution_count": 16,
   "metadata": {},
   "outputs": [
    {
     "name": "stdin",
     "output_type": "stream",
     "text": [
      "How many terms to calculate?  10\n",
      "Point to evaluate sine?  3\n"
     ]
    },
    {
     "name": "stdout",
     "output_type": "stream",
     "text": [
      "1 1\n",
      "3 -1\n",
      "5 1\n",
      "7 -1\n",
      "9 1\n"
     ]
    }
   ],
   "source": [
    "num_of_terms = int(input(\"How many terms to calculate? \"))\n",
    "x = float(input(\"Point to evaluate sine? \"))\n",
    "current_term_num = 0\n",
    "sign = -1\n",
    "while current_term_num <= num_of_terms:\n",
    "    if current_term_num % 2 == 0:\n",
    "        current_term_num = current_term_num + 1\n",
    "        continue\n",
    "    sign = sign * -1\n",
    "    print(current_term_num,sign)\n",
    "    current_term_num = current_term_num + 1"
   ]
  },
  {
   "cell_type": "markdown",
   "metadata": {},
   "source": [
    "Put it all together"
   ]
  },
  {
   "cell_type": "code",
   "execution_count": 17,
   "metadata": {},
   "outputs": [
    {
     "name": "stdin",
     "output_type": "stream",
     "text": [
      "How many terms to calculate?  10\n",
      "Point to evaluate sine?  3\n"
     ]
    },
    {
     "name": "stdout",
     "output_type": "stream",
     "text": [
      "3.0\n",
      "-4.5\n",
      "2.025\n",
      "-0.43392857142857144\n",
      "0.05424107142857143\n"
     ]
    }
   ],
   "source": [
    "num_of_terms = int(input(\"How many terms to calculate? \"))\n",
    "x = float(input(\"Point to evaluate sine? \"))\n",
    "current_term_num = 0\n",
    "sign = -1\n",
    "while current_term_num <= num_of_terms:\n",
    "    #Discard even number terms\n",
    "    if current_term_num % 2 == 0:\n",
    "        current_term_num = current_term_num + 1\n",
    "        continue\n",
    "    #Calculate current_term_num! (factorial)\n",
    "    factorial = 1\n",
    "    number = current_term_num\n",
    "    while number > 0:\n",
    "        factorial = factorial * number\n",
    "        number = number - 1\n",
    "    sign = sign * -1\n",
    "    current_term_value = sign*x**current_term_num / factorial\n",
    "    print(current_term_value)\n",
    "    current_term_num = current_term_num + 1"
   ]
  },
  {
   "cell_type": "markdown",
   "metadata": {},
   "source": [
    "Now add them up"
   ]
  },
  {
   "cell_type": "code",
   "execution_count": 39,
   "metadata": {},
   "outputs": [
    {
     "name": "stdin",
     "output_type": "stream",
     "text": [
      "How many terms to calculate?  10\n",
      "Point to evaluate sine?  1.4\n"
     ]
    },
    {
     "name": "stdout",
     "output_type": "stream",
     "text": [
      "0.9854507318617285\n"
     ]
    }
   ],
   "source": [
    "num_of_terms = int(input(\"How many terms to calculate? \"))\n",
    "x = float(input(\"Point to evaluate sine? \"))\n",
    "current_term_num = 0\n",
    "sign = -1\n",
    "total = 0\n",
    "while current_term_num <= num_of_terms:\n",
    "    #Discard even number terms\n",
    "    if current_term_num % 2 == 0:\n",
    "        current_term_num = current_term_num + 1\n",
    "        continue\n",
    "    #Calculate current_term_num! (factorial)\n",
    "    factorial = 1\n",
    "    number = current_term_num\n",
    "    while number > 0:\n",
    "        factorial = factorial * number\n",
    "        number = number - 1\n",
    "    sign = sign * -1\n",
    "    current_term_value = sign*x**current_term_num / factorial\n",
    "    total = total + current_term_value\n",
    "    current_term_num = current_term_num + 1\n",
    "print(total)"
   ]
  },
  {
   "cell_type": "code",
   "execution_count": null,
   "metadata": {},
   "outputs": [],
   "source": []
  }
 ],
 "metadata": {
  "kernelspec": {
   "display_name": "Python 3",
   "language": "python",
   "name": "python3"
  },
  "language_info": {
   "codemirror_mode": {
    "name": "ipython",
    "version": 3
   },
   "file_extension": ".py",
   "mimetype": "text/x-python",
   "name": "python",
   "nbconvert_exporter": "python",
   "pygments_lexer": "ipython3",
   "version": "3.7.6"
  }
 },
 "nbformat": 4,
 "nbformat_minor": 4
}
